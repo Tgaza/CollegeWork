{
 "cells": [
  {
   "cell_type": "markdown",
   "metadata": {},
   "source": [
    "# Project 2 : Visualization"
   ]
  },
  {
   "cell_type": "markdown",
   "metadata": {},
   "source": [
    "## Instructions\n",
    "\n",
    "### Description\n",
    "\n",
    "In this project, you will look at three bad visualizations then:\n",
    "\n",
    "1. Identify what makes them bad\n",
    "1. Use the same data to make a better chart\n",
    "1. Explain an interesting pattern you noticed.\n",
    "\n",
    "Some helpful questions to determine if a visualization is bad:\n",
    "\n",
    "1. What is the visualization trying to show? Ex. Comparison? Relationship? Change over time?\n",
    "2. Is this the right visualization to use?\n",
    "3. Does the visualization have the correct labels and axes limits?\n",
    "4. Is there too much being shown in one visualization? Should it be split?\n",
    "\n",
    "Some helpful questions to find patterns in a visualization:\n",
    "\n",
    "1. How do different data points compare? Are there significant differences? Are there any outliers?\n",
    "2. If comparing data/series, how do they rank? Is there a significant difference between rankings?\n",
    "3. If looking at data over time, is there any seasonality? How do the values compare to the mean and/or median? How do the values change over time? Ex. Ups and downs? Always up? Always down?\n",
    "\n",
    "### Getting Started\n",
    "\n",
    "The lecture on data visualization (available in the usual places) has a lot of code examples.  Also don't forget the matplotlib documentation available from the Help menu in the notebook.\n",
    "\n",
    "Also, this is the first assignment we've given where we ask you to provide text answers and not just code. You don't have to get fancy, but you'll want to use Markdown to write up your answers.  There is Markdown help available from the Help menu as well.\n",
    "\n",
    "### Grading\n",
    "\n",
    "For grading purposes, we will clear all outputs from all your cells and then run them all from the top.  Please test your notebook in the same fashion before turning it in.\n",
    "\n",
    "### Submitting Your Solution\n",
    "\n",
    "To submit your notebook, first clear all the cells (this won't matter too much this time, but for larger data sets in the future, it will make the file smaller).  Then use the File->Download As->Notebook to obtain the notebook file.  Finally, submit the notebook file on Canvas.\n",
    "\n",
    "### Credits\n",
    "\n",
    "Many thanks to Saad Elbeleidy for this assignment!"
   ]
  },
  {
   "cell_type": "markdown",
   "metadata": {},
   "source": [
    "### Setup Code"
   ]
  },
  {
   "cell_type": "code",
   "execution_count": null,
   "metadata": {},
   "outputs": [],
   "source": [
    "## Imports\n",
    "import matplotlib.pyplot as plt\n",
    "import matplotlib.mlab as mlab\n",
    "import numpy as np\n",
    "import pandas as pd\n",
    "%matplotlib inline\n",
    "%config InlineBackend.figure_format = 'retina'"
   ]
  },
  {
   "cell_type": "markdown",
   "metadata": {},
   "source": [
    "### Problem 1: Bad line chart (15 points)"
   ]
  },
  {
   "cell_type": "markdown",
   "metadata": {},
   "source": [
    "To get you started, we'll walk through 1 bad visualization.\n",
    "\n",
    "![Bad Line Chart](http://imgur.com/kB6uNZC.png)"
   ]
  },
  {
   "cell_type": "code",
   "execution_count": null,
   "metadata": {},
   "outputs": [],
   "source": [
    "# Bad line chart data & names\n",
    "badLineNames = [\"2016 Q1\", \"2016 Q2\", \"2016 Q3\", \"2016 Q4\"]\n",
    "badLineProduct1 = [240, 300, 280, 400]\n",
    "badLineProduct2 = [300, 320, 150, 160]\n",
    "badLineProduct3 = [120, 140, 180, 160]\n",
    "badLineProduct4 = [380, 400, 450, 500]"
   ]
  },
  {
   "cell_type": "markdown",
   "metadata": {},
   "source": [
    "**What makes this visualization bad?**\n",
    "\n",
    "**1. What is the visualization trying to show? Ex. Comparison? Relationship? Change over time?**\n",
    "\n",
    "This visualization tries to show data over time.\n",
    "\n",
    "**2. Is this the right visualization to use?**\n",
    "\n",
    "Yes, we should be using a line chart to show data over time.\n",
    "\n",
    "**3. Does the visualization have the correct labels and axes limits?**\n",
    "\n",
    "There are no labels or a title. We could also use some more space between the min and maximum data points and the axes limits.\n",
    "\n",
    "**4. Is there too much being shown in one visualization? Should it be split?**\n",
    "\n",
    "Yes, it's quite difficult to follow each series, it should be split.\n",
    "\n",
    "\n",
    "Since the chart type is the correct one, it seems all we need to do is add labels and split the lines into subplots. Before we do that, we can probably also improve the design. We covered how to improve a `matplotlib` plot in class using different styles. Select a `style` and apply it below."
   ]
  },
  {
   "cell_type": "code",
   "execution_count": null,
   "metadata": {},
   "outputs": [],
   "source": [
    "## Apply your chosen style here\n",
    "plt.style.use(\"bmh\")"
   ]
  },
  {
   "cell_type": "markdown",
   "metadata": {},
   "source": [
    "An example of how to set up subplots can be found in lecture 05, slide 13. "
   ]
  },
  {
   "cell_type": "markdown",
   "metadata": {},
   "source": [
    "Now we need to plot the data over different panels. We can use [`plt.subplots`](http://matplotlib.org/api/pyplot_api.html#matplotlib.pyplot.subplots) to create multiple panels. Since we have 4 products, we're going to need 4 panels on top of each other. `subplots` returns two variables, the figure object and an array of axes. What we can do is loop through each Axes object and create a plot for that product. The first Axes object should plot the first product, the second should plot the second product and so on.\n",
    "<br><br>\n",
    "**Step 1: Buffers** \n",
    "<br>Each subplot will have its own y axis, but to make the scale is the same for all subplots, create a buffer between the lowest value among all products and the start of the y axis as well as between the highest value and the top of the y axis. These buffers are simply integers that extend the y axis above the highest value in the products, and below the lowest. You can choose any reasonable buffer value.\n",
    "<br><br>\n",
    "**Step 2: Mean**\n",
    "<br>Calculate the mean of the entire data set. This can be understood (and calculated) as the mean of the individual product means. To calculate this easily, first put the products in a list, create a list of the individual means using a comprehension over the product list, then find the mean of the list of individual means. Another way to accomplish could be to form a two-dimensional array (a list of all product lists) and then use numpy's mean function to calculate the mean of the that.\n",
    "<br><br>\n",
    "**Step 3: Colors**\n",
    "<br>Choose a color for the plot of each product. This can be done by filling a list with each color's matplotlib name. Available colors can be found [here](https://matplotlib.org/2.0.2/api/colors_api.html)\n",
    "<br><br>\n",
    "**Step 4: Subplots** \n",
    "<br>Now that those numbers are calculated, create 4 line charts on top of each other, each plotting one of the products.\n",
    "<br>For each subplot:\n",
    "<br>\n",
    "1) Plot the product with `plot(data, color)`\n",
    "<br>\n",
    "1) Set the y scale using `set_ylim(bottomBuffer, topBuffer)`\n",
    "<br>\n",
    "1) Add an xlabel and xticklabels if this subplot is the bottom one using `set_xlabel(label)` and `set_xticks(list of xticks, list of labels)`. xticks refer to the position of the ticks on the x axis, and xticklabels refer to the labels that will be displayed at those positions. Since the xticks for this problem are basically categorical and the actual numeric values are not important (as long as they are evenly spaced), you can use `range(4)` for the xticks. \n",
    "<br>\n",
    "1) Hide xticks on the other subplots with `set_xticks([])`.\n",
    "<br>\n",
    "1) Add a title to the subplot with the product number using `set_title(title)`\n",
    "<br>\n",
    "1) Add a dashed line with the value of the mean using `plot(mean, args)` or `axhline(mean, args)`. More info [here](https://matplotlib.org/api/_as_gen/matplotlib.axes.Axes.axhline.html)\n",
    "\n",
    "<br><br>\n",
    "**Step 5: Beautify**\n",
    "<br>\n",
    "1) Add a title to the whole diagram(the superplot) with `fig.suptitle(title)`\n",
    "<br>\n",
    "1) Rearrange subplots, if necessary, with `fig.subplots_adjust(left, bottom, right, top, wspace, hspace)`\n",
    "<br><br>\n",
    "**Notes:**\n",
    "<br>\n",
    "- Many of the arguments to many of these functions are 'default', meaning they're optional. If there's an argument you don't need or want, try leaving it out. For example, if you only want to change the hspace of the subplots, you can call `fig.subplot_adjust(hspace=0.6)` without specifying the other arguments. Just be sure to label the argument you want to specify. Don't just write `fig.subplot_adjust(0.6)`"
   ]
  },
  {
   "cell_type": "code",
   "execution_count": null,
   "metadata": {},
   "outputs": [],
   "source": [
    "# badLineNames = [\"2016 Q1\", \"2016 Q2\", \"2016 Q3\", \"2016 Q4\"]\n",
    "# badLineProduct1 = [240, 300, 280, 400]\n",
    "# badLineProduct2 = [300, 320, 150, 160]\n",
    "# badLineProduct3 = [120, 140, 180, 160]\n",
    "# badLineProduct4 = [380, 400, 450, 500]\n",
    "# Step 1\n",
    "maxPrice= max(max(badLineProduct1), max(badLineProduct2), max(badLineProduct3), max(badLineProduct4))\n",
    "bottomBuffer = 0\n",
    "topBuffer = maxPrice + 100;\n",
    "\n",
    "# Step 2\n",
    "allProducts = [badLineProduct1,badLineProduct2,badLineProduct3,badLineProduct4]\n",
    "totalMean = np.mean(allProducts)\n",
    "\n",
    "# Step 3\n",
    "plotColors = [\"b\",\"r\",\"k\",\"g\"]\n",
    "\n",
    "# Step 4\n",
    "fig, pltAxs = plt.subplots(4,1)\n",
    "for i, ax in enumerate(pltAxs):\n",
    "    ax.plot(allProducts[i], plotColors[i])\n",
    "    ax.set_ylim(bottomBuffer, topBuffer)\n",
    "    if(i == len(pltAxs)-1):\n",
    "        ax.set_xlabel(\"Quarters\")\n",
    "        ax.set_xticks(range(4), badLineNames)\n",
    "    else:\n",
    "        ax.set_xticks([])\n",
    "    ax.set_title(\"Product {}\".format(str(i+1)), fontsize=8)\n",
    "    ax.plot(totalMean, \"--\")\n",
    "    \n",
    "    \n",
    "# Step 5\n",
    "fig.suptitle(\"Quarterly Reports for All Products\", fontsize=12)\n",
    "fig.subplots_adjust(hspace = 0.7)\n",
    "plt.show()\n"
   ]
  },
  {
   "cell_type": "markdown",
   "metadata": {},
   "source": [
    "Now that you've created a better plot, try to describe a pattern in the dataset. Use the following questions as a reference:\n",
    "\n",
    "1. How do different data points compare? Are there significant differences? Are there any outliers?\n",
    "2. If comparing data/series, how do they rank? Is there a significant difference between rankings? Here, ranking refers to how products stack up in terms of overall performance. \n",
    "3. If looking at data over time, is there any seasonality? How do the values compare to the mean and/or median? How do the values change over time? Ex. Ups and downs? Always up? Always down?"
   ]
  },
  {
   "cell_type": "markdown",
   "metadata": {},
   "source": [
    "**Your Answer Here:**\n",
    "    Within the data given there are multiple points of interest. Product 1 appears to have a seasonal appeal as from quarter 2 to quarter 3 the product maintained a stable performance, while during other periods of the year the product steadily increased in performance. Product 2 had a similar performance however instead of maintaining a steady performance from Q2 to Q3 it drastically fell in performance. Product 3 appeared to be steady but had fairly low volatility, and lastly product 4 steadily rose in performance yearround.\n",
    "    One noticeable change in almost all of the products is that each time a quarter ended the products performance would change, only one product was very stable in it's change in performance and that was product 4.\n",
    ">*Edit this cell with your answer*"
   ]
  },
  {
   "cell_type": "markdown",
   "metadata": {},
   "source": [
    "Next, look through the following bad visualizations and apply the above workflow to:\n",
    "\n",
    "1. Determine what makes them bad\n",
    "1. Create a better visualization\n",
    "1. Describe a pattern in the data\n",
    "\n",
    "NOTE: An important part of a graph is the context. Since we do not provide any context, you can make up your own."
   ]
  },
  {
   "cell_type": "markdown",
   "metadata": {},
   "source": [
    "### Problem 2: Bad pie chart (20 points)\n",
    "\n",
    "Explain why this visualization is a bad one:\n",
    "\n",
    "![Bad Pie Chart](http://imgur.com/Wg9DOZd.png)"
   ]
  },
  {
   "cell_type": "markdown",
   "metadata": {},
   "source": [
    "**Your Answer Here:**\n",
    "\n",
    "**1. What is the visualization trying to show? Ex. Comparison? Relationship? Change over time?**\n",
    "    \n",
    "        This visualization is trying to compare 4 cities with there respective quantities.\n",
    "        \n",
    "**2. Is this the right visualization to use?**\n",
    "    \n",
    "        No, a pie chart should be used to compare parts of a whole not seperate entities. Instead this graph should be a bar chart.\n",
    "        \n",
    "**3. Does the visualization have the correct labels and axes limits?**\n",
    "\n",
    "        They do label the cities, but there are no labels for the quantities and there is no titles.\n",
    "\n",
    "**4. Is there too much being shown in one visualization? Should it be split?**\n",
    "\n",
    "        I do not think this should be split into multiple graphs as it is only comparing 4 data points, 1 for each city. A single bar chart should do a good job showing the comparison.\n",
    "        \n",
    "    \n"
   ]
  },
  {
   "cell_type": "code",
   "execution_count": null,
   "metadata": {},
   "outputs": [],
   "source": [
    "badPieNames = [\"Golden\", \"Boulder\", \"Denver\", \"Colo Springs\"]\n",
    "badPieValues = [0.37, 0.4, 0.5, 0.35]"
   ]
  },
  {
   "cell_type": "code",
   "execution_count": null,
   "metadata": {},
   "outputs": [],
   "source": [
    "# Plot a better chart using this data\n",
    "adjustedValues = [val*100 for val in badPieValues]\n",
    "bottomBuffer = 0\n",
    "topBuffer = 100\n",
    "cityPercentages = pd.DataFrame({\"cities\" : badPieNames, \"percentages\" : adjustedValues})\n",
    "cityPercentages.plot(kind=\"barh\", x=\"cities\", y=\"percentages\", legend=False)\n",
    "plt.xlim(bottomBuffer, topBuffer)\n",
    "plt.xlabel(\"Percentage(%)\")\n",
    "plt.ylabel(\"City\")\n",
    "plt.title(\"Percentage of Population that does not own cars\", fontsize=12)\n",
    "plt.show()\n"
   ]
  },
  {
   "cell_type": "markdown",
   "metadata": {},
   "source": [
    "Tell a story or describe a pattern using your new visualization."
   ]
  },
  {
   "cell_type": "markdown",
   "metadata": {},
   "source": [
    "**Your Answer Here:**\n",
    "\n",
    "        Noteably the City of Denver has significantly less people who own cars compared to the other cities, which makes sense as it is a much more dense city where it's population has access to more public transportation. On the other hand, the other three cities are much closer in the percentage of the population that does not own cars with Golden and Colorado Springs only differing by 2%.\n",
    "        Another interesting note is that all of the cities have at least 50% of the population owning cars.\n",
    "\n",
    ">*Edit this cell with your answer*"
   ]
  },
  {
   "cell_type": "markdown",
   "metadata": {},
   "source": [
    "### Problem 3: Bad bar chart 1 (20 points)\n",
    "\n",
    "Explain why this visualization is a bad one:\n",
    "\n",
    "![Bad Bar Chart](http://imgur.com/AkLyM9I.png)"
   ]
  },
  {
   "cell_type": "markdown",
   "metadata": {},
   "source": [
    "**Your Answer Here:**\n",
    "\n",
    "**1. What is the visualization trying to show? Ex. Comparison? Relationship? Change over time?**\n",
    "    \n",
    "        This visualization is trying to compare three items using a bar chart.\n",
    "        \n",
    "**2. Is this the right visualization to use?**\n",
    "        \n",
    "        I think this is the correct visualization, it just lacks proper identifiers.\n",
    "        \n",
    "**3. Does the visualization have the correct labels and axes limits?**\n",
    "\n",
    "        No, this visualization has no labels or title, and the axes limits over amplify the difference between the items\n",
    "\n",
    "**4. Is there too much being shown in one visualization? Should it be split?**\n",
    "\n",
    "        No, all this visualization needs is labels and a title to depict what exactly is being compared."
   ]
  },
  {
   "cell_type": "code",
   "execution_count": null,
   "metadata": {},
   "outputs": [],
   "source": [
    "badBarNames = [\"A\", \"B\", \"C\"]\n",
    "badBarValues = [240, 242, 251]"
   ]
  },
  {
   "cell_type": "code",
   "execution_count": null,
   "metadata": {},
   "outputs": [],
   "source": [
    "# Plot a better chart using this data\n",
    "bottomBuffer = 200\n",
    "topBuffer = max(badBarValues) + 50\n",
    "ProductSales = pd.DataFrame({\"products\" : badBarNames, \"productsSold\" : badBarValues})\n",
    "ProductSales.plot(kind=\"bar\", x=\"products\", y=\"productsSold\", legend=False)\n",
    "plt.ylim(bottomBuffer, topBuffer)\n",
    "plt.ylabel(\"Products Sold (thousands)\")\n",
    "plt.xlabel(\"Product\")\n",
    "plt.xticks(rotation=0)\n",
    "plt.title(\"Product Sales\", fontsize=12)\n",
    "plt.show()"
   ]
  },
  {
   "cell_type": "markdown",
   "metadata": {},
   "source": [
    "Tell a story or describe a pattern using your new visualization."
   ]
  },
  {
   "cell_type": "markdown",
   "metadata": {},
   "source": [
    "    All three products had a relatively similar amount of sales, however product C did have noticeably more sales than both products A and B who had almost the same number of sales. Therefore, all three products sold at least 240,000 units, with Product A selling over 250,000 units."
   ]
  },
  {
   "cell_type": "markdown",
   "metadata": {},
   "source": [
    "### Problem 4: Bad bar chart 2 (20 points)\n",
    "\n",
    "Explain why this visualization is a bad one:\n",
    "\n",
    "![Bad Bar Chart](http://imgur.com/Ns3lgyp.png)"
   ]
  },
  {
   "cell_type": "markdown",
   "metadata": {},
   "source": [
    "**Your Answer Here:**\n",
    "\n",
    "**1. What is the visualization trying to show? Ex. Comparison? Relationship? Change over time?**\n",
    "    \n",
    "        This visualization is trying to show a data over time.\n",
    "        \n",
    "**2. Is this the right visualization to use?**\n",
    "        \n",
    "        No, this is the incorrect visualization to use for data over time. A better visualization would be to use a line chart.\n",
    "        \n",
    "**3. Does the visualization have the correct labels and axes limits?**\n",
    "\n",
    "        No, this visualization does not have any labels, and the axes limits are improperly spaced making the chart hard to read.\n",
    "\n",
    "**4. Is there too much being shown in one visualization? Should it be split?**\n",
    "\n",
    "        No, there is only one stream of data so a singular line chart should work."
   ]
  },
  {
   "cell_type": "code",
   "execution_count": null,
   "metadata": {},
   "outputs": [],
   "source": [
    "badBar2Names = [\"Jan\", \"Feb\", \"Mar\", \"Apr\", \"May\", \"Jun\", \"Jul\", \"Aug\", \"Sep\", \"Oct\", \"Nov\", \"Dec\"]\n",
    "badBar2Values = [240, 320, 360, 280, 290, 300, 500, 410, 390, 200, 220, 240]"
   ]
  },
  {
   "cell_type": "code",
   "execution_count": null,
   "metadata": {},
   "outputs": [],
   "source": [
    "maxSales = max(badBar2Values)\n",
    "bottomBuffer = 0\n",
    "topBuffer = maxSales + 100;\n",
    "fig, ax = plt.subplots(1,1)\n",
    "ax.plot(badBar2Names, badBar2Values)\n",
    "ax.set_ylim(bottomBuffer, topBuffer)\n",
    "ax.set_xlabel(\"Month\")\n",
    "ax.set_ylabel(\"Cars Sold\")\n",
    "ax.set_xticks(range(12), badBar2Names)\n",
    "ax.set_title(\"Car X Sales This Year\")\n",
    "plt.show()\n"
   ]
  },
  {
   "cell_type": "markdown",
   "metadata": {},
   "source": [
    "Tell a story or describe a pattern using your new visualization."
   ]
  },
  {
   "cell_type": "markdown",
   "metadata": {},
   "source": [
    "        Car X sales experienced one minor spike, one major spike, one minor dip, and one major dip. The two spikes in sales occured from january through march and jun through july respectively. While the dips occured from march through april and july through october respectively. These spikes and dips could be indicative of seasonal interest and loss of interest due to announcment of a new model. Specifically both spikes and first dip being seasonal, and the major dip being due to the announcment of a new model of car."
   ]
  },
  {
   "cell_type": "markdown",
   "metadata": {},
   "source": [
    "### Questionnaire\n",
    "1) How long did you spend on this assignment?\n",
    "<br>I spent a couple of hours on this assignment<br>\n",
    "2) What did you like about it? What did you not like about it?\n",
    "<br>I liked experimenting with various plots in order to see which one worked best for the visualization, but I did not like the lack of background for each visualization. The lack of background made it hard to figure out what you might be wanting for the given data, as in two different people could percieve the given unlabeled data and assume two completely different backgrounds and visualizations.<br>\n",
    "3) Did you find any errors or is there anything you would like changed?\n",
    "<br>The only change I would think of would be to add at least a little background knowledge to each visualization.<br>"
   ]
  },
  {
   "cell_type": "code",
   "execution_count": null,
   "metadata": {},
   "outputs": [],
   "source": []
  }
 ],
 "metadata": {
  "anaconda-cloud": {},
  "kernelspec": {
   "display_name": "Python 3 (ipykernel)",
   "language": "python",
   "name": "python3"
  },
  "language_info": {
   "codemirror_mode": {
    "name": "ipython",
    "version": 3
   },
   "file_extension": ".py",
   "mimetype": "text/x-python",
   "name": "python",
   "nbconvert_exporter": "python",
   "pygments_lexer": "ipython3",
   "version": "3.11.7"
  }
 },
 "nbformat": 4,
 "nbformat_minor": 2
}
