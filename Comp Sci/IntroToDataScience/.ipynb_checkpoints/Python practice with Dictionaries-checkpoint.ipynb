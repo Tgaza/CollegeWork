{
 "cells": [
  {
   "cell_type": "code",
   "execution_count": null,
   "id": "a4bfeab6",
   "metadata": {},
   "outputs": [],
   "source": [
    "\"\"\"\n",
    "    Author: Ty Gazaway\n",
    "    Date: 05/17/2024\n",
    "\"\"\"\n",
    "\n",
    "def sort_Words(wordList):\n",
    "    dict = {}\n",
    "    wordList.sort()\n",
    "    for str in wordList:\n",
    "        wordLength = len(str)\n",
    "        if(dict.has_key(wordLength)):\n",
    "            dict.get(wordLength).append(str)\n",
    "        else:\n",
    "            dict[wordLength]\n",
    "    \n",
    "def main():\n",
    "    #for testing the function\n",
    "    wordList = ['one', 'two', 'three', 'six']\n",
    "    print(sort_Words(wordList))\n",
    "    \n",
    "if (__name__ == '__main__'):\n",
    "    main()\n"
   ]
  }
 ],
 "metadata": {
  "kernelspec": {
   "display_name": "Python 3 (ipykernel)",
   "language": "python",
   "name": "python3"
  },
  "language_info": {
   "codemirror_mode": {
    "name": "ipython",
    "version": 3
   },
   "file_extension": ".py",
   "mimetype": "text/x-python",
   "name": "python",
   "nbconvert_exporter": "python",
   "pygments_lexer": "ipython3",
   "version": "3.11.7"
  }
 },
 "nbformat": 4,
 "nbformat_minor": 5
}
