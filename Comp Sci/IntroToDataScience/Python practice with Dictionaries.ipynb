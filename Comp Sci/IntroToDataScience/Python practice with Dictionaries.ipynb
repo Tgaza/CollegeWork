{
 "cells": [
  {
   "cell_type": "code",
   "execution_count": 5,
   "id": "65206e8d",
   "metadata": {},
   "outputs": [
    {
     "name": "stdout",
     "output_type": "stream",
     "text": [
      "{3: ['ack', 'one', 'six', 'ten', 'two'], 5: ['eight', 'three'], 4: ['four']}\n"
     ]
    }
   ],
   "source": [
    "\"\"\"\n",
    "    Author: Ty Gazaway\n",
    "    Date: 05/17/2024\n",
    "\"\"\"\n",
    "\n",
    "def sort_Words(wordList):\n",
    "    \"\"\"takes in a list of words and maps them to a dictionary such that:\n",
    "        Key = length of word\n",
    "        Value = alphabetically sorted list of the words with length of Key\"\"\"\n",
    "    dict = {}\n",
    "    wordList.sort()\n",
    "    for str in wordList:\n",
    "        wordLength = len(str)\n",
    "        if wordLength in dict:\n",
    "            dict.get(wordLength).append(str)\n",
    "        else:\n",
    "            dict[wordLength] = [str]\n",
    "    return dict\n",
    "    \n",
    "def main():\n",
    "    #for testing the function\n",
    "    wordList = ['one', 'two', 'three', 'six', 'four', 'eight', 'ten', 'ack']\n",
    "    print(sort_Words(wordList))\n",
    "    \n",
    "if (__name__ == '__main__'):\n",
    "    main()\n"
   ]
  },
  {
   "cell_type": "code",
   "execution_count": null,
   "id": "e14e72c8",
   "metadata": {},
   "outputs": [],
   "source": []
  }
 ],
 "metadata": {
  "kernelspec": {
   "display_name": "Python 3 (ipykernel)",
   "language": "python",
   "name": "python3"
  },
  "language_info": {
   "codemirror_mode": {
    "name": "ipython",
    "version": 3
   },
   "file_extension": ".py",
   "mimetype": "text/x-python",
   "name": "python",
   "nbconvert_exporter": "python",
   "pygments_lexer": "ipython3",
   "version": "3.11.7"
  }
 },
 "nbformat": 4,
 "nbformat_minor": 5
}
