{
 "cells": [
  {
   "cell_type": "markdown",
   "metadata": {
    "id": "snMo9ZsfZrjJ"
   },
   "source": [
    "## Project 5 : Classification"
   ]
  },
  {
   "cell_type": "markdown",
   "metadata": {
    "id": "FD5coBt7ZrjM"
   },
   "source": [
    "## Instructions\n",
    "\n",
    "### Description\n",
    "\n",
    "Practice classification on the Titanic dataset.\n",
    "\n",
    "### Grading\n",
    "\n",
    "For grading purposes, we will clear all outputs from all your cells and then run them all from the top.  Please test your notebook in the same fashion before turning it in.\n",
    "\n",
    "### Submitting Your Solution\n",
    "\n",
    "To submit your notebook, first clear all the cells (this won't matter too much this time, but for larger data sets in the future, it will make the file smaller).  Then use the File->Download As->Notebook to obtain the notebook file.  Finally, submit the notebook file on Canvas.\n"
   ]
  },
  {
   "cell_type": "code",
   "execution_count": null,
   "metadata": {
    "id": "Qy1IWSV2ZrjN"
   },
   "outputs": [],
   "source": [
    "import pandas as pd\n",
    "import numpy as np\n",
    "import sklearn as sk\n",
    "import matplotlib.pyplot as plt\n",
    "import seaborn as sns\n",
    "\n",
    "plt.style.use('ggplot')\n",
    "\n",
    "%matplotlib inline\n",
    "%config InlineBackend.figure_format = 'retina'"
   ]
  },
  {
   "cell_type": "markdown",
   "metadata": {
    "collapsed": true,
    "id": "yTgZ8xwPZrjO"
   },
   "source": [
    "### Introduction\n",
    "\n",
    "On April 15, 1912, the largest passenger liner ever made collided with an iceberg during her maiden voyage. When the Titanic sank it killed 1502 out of 2224 passengers and crew. This sensational tragedy shocked the international community and led to better safety regulations for ships. One of the reasons that the shipwreck resulted in such loss of life was that there were not enough lifeboats for the passengers and crew. Although there was some element of luck involved in surviving the sinking, some groups of people were more likely to survive than others.\n",
    "\n",
    "Intro Videos: \n",
    "https://www.youtube.com/watch?v=3lyiZMeTKIo\n",
    "and\n",
    "https://www.youtube.com/watch?v=ItjXTieWKyI \n",
    "\n",
    "The `titanic_data.csv` file contains data for `887` of the real Titanic passengers. Each row represents one person. The columns describe different attributes about the person including whether they survived (`0=No`), their age, their passenger-class (`1=1st Class, Upper`), gender, and the fare they paid (£s*). For more on the currency: http://www.statisticalconsultants.co.nz/blog/titanic-fare-data.html\n",
    "\n",
    "We are going to try to see if there are correlations between the feature data provided (find a best subset of features) and passenger survival."
   ]
  },
  {
   "cell_type": "markdown",
   "metadata": {
    "id": "Yo2wAo3vZrjO"
   },
   "source": [
    "### Problem 1: Load and understand the data (35 points)\n",
    "\n",
    "#### Your task (some of this is the work you completed for L14 - be sure to copy that work into here as needed)\n",
    "Conduct some preprocessing steps to explore the following and provide code/answers in the below cells:\n",
    "1. Load the `titanic_data.csv` file into a pandas dataframe\n",
    "2. Explore the data provided (e.g., looking at statistics using describe(), value_counts(), histograms, scatter plots of various features, etc.) \n",
    "3. What are the names of feature columns that appear to be usable for learning?\n",
    "4. What is the name of the column that appears to represent our target?\n",
    "5. Formulate a hypothesis about the relationship between given feature data and the target\n",
    "6. How did Pclass affect passenngers' chances of survival?\n",
    "7. What is the age distribution of survivors?"
   ]
  },
  {
   "cell_type": "code",
   "execution_count": null,
   "metadata": {
    "id": "g_FdHGWgZrjP"
   },
   "outputs": [],
   "source": [
    "# Step 1. Load the `titanic_data.csv` file into a pandas dataframe\n",
    "data = pd.read_csv('titanic_data.csv')\n",
    "X = data.iloc[:, 1:]\n",
    "y = data[\"Survived\"]\n",
    "data.head()"
   ]
  },
  {
   "cell_type": "code",
   "execution_count": null,
   "metadata": {
    "id": "W39VMl34ZrjP"
   },
   "outputs": [],
   "source": [
    "# Step 2. Explore the data provided (e.g., looking at statistics using describe(), value_counts(), histograms, scatter plots of various features, etc.) \n",
    "data.describe()"
   ]
  },
  {
   "cell_type": "code",
   "execution_count": null,
   "metadata": {},
   "outputs": [],
   "source": [
    "fig, axs = plt.subplots(nrows=2, ncols=3)\n",
    "\n",
    "axs[0,0].hist(data.loc[data[\"Survived\"] == 1, \"Pclass\"], 15)\n",
    "axs[0,0].set_xlabel(\"Pclass\")\n",
    "\n",
    "axs[0,1].hist(data.loc[data[\"Survived\"] == 1, \"Fare\"], 15)\n",
    "axs[0,1].set_xlabel(\"Fare\")\n",
    "\n",
    "axs[1,0].hist(data.loc[data[\"Survived\"] == 1, \"Age\"], 50)\n",
    "axs[1,0].set_xlabel(\"Age\")\n",
    "axs[1,0].set_xticks(np.arange(0,max(data[\"Age\"])+10, 10))\n",
    "\n",
    "axs[1,1].hist(data.loc[data[\"Survived\"] == 1, \"Parents/Children Aboard\"], 15)\n",
    "axs[1,1].set_xlabel(\"Parents/Children Aboard\")\n",
    "\n",
    "axs[0,2].hist(data.loc[data[\"Survived\"] == 1, \"Siblings/Spouses Aboard\"], 15)\n",
    "axs[0,2].set_xlabel(\"Siblings/Spouses Aboard\")\n",
    "\n",
    "axs[1,2].hist(data.loc[data[\"Survived\"] == 1, \"Sex\"], 2)\n",
    "axs[1,2].set_xlabel(\"Sex\")\n",
    "\n",
    "fig.set_constrained_layout(True)\n",
    "fig.suptitle(\"Histograms of those who survived\")\n",
    "fig.supylabel(\"Number of People\")\n",
    "plt.show()"
   ]
  },
  {
   "cell_type": "code",
   "execution_count": null,
   "metadata": {},
   "outputs": [],
   "source": [
    "fig, axs = plt.subplots(nrows=2, ncols=3)\n",
    "\n",
    "axs[0,0].hist(data.loc[data[\"Survived\"] == 0, \"Pclass\"], 15)\n",
    "axs[0,0].set_xlabel(\"Pclass\")\n",
    "\n",
    "axs[0,1].hist(data.loc[data[\"Survived\"] == 0, \"Fare\"], 15)\n",
    "axs[0,1].set_xlabel(\"Fare\")\n",
    "\n",
    "axs[1,0].hist(data.loc[data[\"Survived\"] == 0, \"Age\"], 50)\n",
    "axs[1,0].set_xlabel(\"Age\")\n",
    "axs[1,0].set_xticks(np.arange(0,max(data[\"Age\"])+10, 10))\n",
    "\n",
    "axs[1,1].hist(data.loc[data[\"Survived\"] == 0, \"Parents/Children Aboard\"], 15)\n",
    "axs[1,1].set_xlabel(\"Parents/Children Aboard\")\n",
    "\n",
    "axs[0,2].hist(data.loc[data[\"Survived\"] == 0, \"Siblings/Spouses Aboard\"], 15)\n",
    "axs[0,2].set_xlabel(\"Siblings/Spouses Aboard\")\n",
    "\n",
    "axs[1,2].hist(data.loc[data[\"Survived\"] == 0, \"Sex\"], 2)\n",
    "axs[1,2].set_xlabel(\"Sex\")\n",
    "\n",
    "fig.set_constrained_layout(True)\n",
    "fig.suptitle(\"Histograms of those who didn't survive\")\n",
    "fig.supylabel(\"Number of People\")\n",
    "plt.show()"
   ]
  },
  {
   "cell_type": "code",
   "execution_count": null,
   "metadata": {},
   "outputs": [],
   "source": [
    "fig, axs = plt.subplots(nrows=2, ncols=2)\n",
    "\n",
    "axs[0,0].plot(data[\"Pclass\"], data[\"Fare\"], \"b.\")\n",
    "axs[0,0].set_xlabel(\"Pclass\")\n",
    "axs[0,0].set_ylabel(\"Fare\")\n",
    "\n",
    "axs[1,0].plot(data[\"Pclass\"], data[\"Age\"], \"b.\")\n",
    "axs[1,0].set_xlabel(\"Pclass\")\n",
    "axs[1,0].set_ylabel(\"Age\")\n",
    "\n",
    "axs[0,1].plot(data[\"Siblings/Spouses Aboard\"], data[\"Parents/Children Aboard\"], \"b.\")\n",
    "axs[0,1].set_xlabel(\"Siblings/Spouses Aboard\")\n",
    "axs[0,1].set_ylabel(\"Parents/Children Aboard\")\n",
    "\n",
    "fig.set_constrained_layout(True)\n",
    "fig.suptitle(\"Scatter plot Comparisons\")\n",
    "plt.show()"
   ]
  },
  {
   "cell_type": "markdown",
   "metadata": {
    "id": "8P3MyrYvZrjP"
   },
   "source": [
    "---\n",
    "\n",
    "**Edit this cell to provide answers to the following steps:**\n",
    "\n",
    "---\n",
    "\n",
    "Step 3. What are the names of feature columns that appear to be usable for learning?\n",
    "\n",
    "    I think that the features that appear the most valuable for learning would be Age, Sex, and Pclass.\n",
    "\n",
    "Step 4. What is the name of the column that appears to represent our target?\n",
    "\n",
    "    Survived\n",
    "\n",
    "Step 5. Formulate a hypothesis about the relationship between given feature data and the target\n",
    "\n",
    "    My hypothesis is that the main variables that contributed to survival were: the younger you are the more likely you are to survive, Women were more likely to survive, and those in Pclass 3 were the least likely to survive.\n",
    "    \n",
    "Step 6.\n",
    "\n",
    "     Pclass 3 had a significantly less chance of surivival compared to the other classes.\n"
   ]
  },
  {
   "cell_type": "code",
   "execution_count": null,
   "metadata": {
    "id": "UT2-1I86ZrjQ"
   },
   "outputs": [],
   "source": [
    "#Step 6. How did Pclass affect passenngers' chances of survival?\n",
    "#Show your work with a bar plot, dataframe selection, or visual of your choice.\n",
    "Pclass_died = data.loc[data[\"Survived\"] == 0, \"Pclass\"].value_counts()\n",
    "Pclass_survived = data.loc[data[\"Survived\"] == 1, \"Pclass\"].value_counts()\n",
    "Pclass_data = pd.DataFrame({\n",
    "    \"Pclass_died\": Pclass_died, \"Pclass_survived\": Pclass_survived\n",
    "})\n",
    "Pclass_data.plot(kind=\"bar\")\n",
    "plt.title(\"How many people survived in eahc Pclass\")\n",
    "plt.ylabel(\"Number of People\")\n",
    "plt.show()"
   ]
  },
  {
   "cell_type": "code",
   "execution_count": null,
   "metadata": {
    "id": "beX7g2S2ZrjQ"
   },
   "outputs": [],
   "source": [
    "#Step 7. What is the age distribution of survivors?\n",
    "#Show your work with a dataframe operation and/or histogram plot.\n",
    "\n",
    "plt.hist(data.loc[data[\"Survived\"] == 1, \"Age\"], 50)\n",
    "plt.xlabel(\"Age\")\n",
    "plt.xticks(np.arange(0,max(data[\"Age\"])+10, 10))\n",
    "plt.title(\"Age distribution of survivors\")\n",
    "plt.show()"
   ]
  },
  {
   "cell_type": "markdown",
   "metadata": {
    "id": "Ei9hTK4wZrjR"
   },
   "source": [
    "### Problem 2: transform the data (10 points)\n",
    "The `Sex` column is categorical, meaning its data are separable into groups, but not numerical. To be able to work with this data, we need numbers, so you task is to transform the `Sex` column into numerical data with pandas' `get_dummies` feature and remove the original categorical `Sex` column."
   ]
  },
  {
   "cell_type": "code",
   "execution_count": null,
   "metadata": {
    "id": "wcBPWipsZrjR"
   },
   "outputs": [],
   "source": [
    "data_with_dummies = pd.get_dummies(data, columns=[\"Sex\"])\n",
    "data_with_dummies.head()"
   ]
  },
  {
   "cell_type": "markdown",
   "metadata": {
    "id": "XipNK7BMZrjR"
   },
   "source": [
    "### Problem 3: Classification (30 points)\n",
    "Now that the data is transformed, we want to run various classification experiments on it. The first is `K Nearest Neighbors`, which you will conduct by:\n",
    "\n",
    "1. Define input and target data by creating lists of dataframe columns (e.g., inputs = ['Pclass', etc.)\n",
    "2. Split the data into training and testing sets with `train_test_split()`\n",
    "3. Create a `KNeighborsClassifier` using `5` neighbors at first (you can experiment with this parameter)\n",
    "4. Train your model by passing the training dataset to `fit()`\n",
    "5. Calculate predicted target values(y_hat) by passing the testing dataset to `predict()`\n",
    "6. Print the accuracy of the model with `score()`\n",
    "\n",
    "** Note: If you get a python warning as you use the Y, trainY, or testY vector in some of the function calls about \"DataConversionWarning: A column-vector y was passed when a 1d array was expected. Please change the shape of y to (n_samples, )\", you can look up how to use trainY.values.ravel() or trainY.values.flatten() or another function, etc."
   ]
  },
  {
   "cell_type": "code",
   "execution_count": null,
   "metadata": {
    "id": "tbb25y7RZrjS"
   },
   "outputs": [],
   "source": [
    "inputs = data_with_dummies[[\"Pclass\", \"Sex_female\", \"Sex_male\", \"Age\"]]\n",
    "target = data_with_dummies[\"Survived\"]"
   ]
  },
  {
   "cell_type": "code",
   "execution_count": null,
   "metadata": {
    "id": "pS7mNB05ZrjS"
   },
   "outputs": [],
   "source": [
    "from sklearn.model_selection import train_test_split\n",
    "trainX, testX, trainY, testY = train_test_split(inputs, target, test_size = 0.2)\n",
    "print(trainX.shape)\n",
    "print(testX.shape)\n",
    "print(trainY.shape)\n",
    "print(testY.shape)"
   ]
  },
  {
   "cell_type": "code",
   "execution_count": null,
   "metadata": {
    "id": "yk-xmVtEZrjS"
   },
   "outputs": [],
   "source": [
    "# from sklearn.neighbors import KNeighborsClassifier\n",
    "k = 5\n",
    "model = KNeighborsClassifier(k)\n",
    "model.fit(trainX, trainY)\n",
    "y_hat = model.predict(testX)\n",
    "print(model.score(testX, testY))"
   ]
  },
  {
   "cell_type": "markdown",
   "metadata": {
    "id": "l9prt7aTZrjS"
   },
   "source": [
    "### Problem 4: Cross validation, classification report (15 points)\n",
    "- Using the concepts from the 17-model_selection slides and the [`cross_val_score`](http://scikit-learn.org/stable/modules/generated/sklearn.model_selection.cross_val_score.html) function from scikit-learn, estimate the f-score ([`f1-score`](http://scikit-learn.org/stable/modules/generated/sklearn.metrics.f1_score.html#sklearn.metrics.f1_score)) (you can use however many folds you wish). \n",
    "\n",
    "    `cross_val_score` is a handy utility, but it can be confusing. It doesn't return a model like `KNeighborsClassifier(...)`. Instead, it uses a model and dataset that you provide and runs the whole train-predict-score process for each of `k` folds (refer to the notes on Cross Validation for more information). The function returns a list of scores, one for each of the k folds. To get to a single score, it is possible to take the mean or median of this list of scores. There are also even do more involved statistical techniques. However, it is also correct to just provide the list of scores.\n",
    "\n",
    "    By default, the `cross_val_score` utility will apply the default scoring metric (accuracy) to every cross validation fold. To get it to apply `f1-score` instead, you will need to create a \"scorer\" that calculates f1-scores using [`make_scorer`](http://scikit-learn.org/stable/modules/generated/sklearn.metrics.make_scorer.html#sklearn.metrics.make_scorer), and then pass this object to the `scoring` parameter of `cross_val_score`. Since this has a few parts to it, let me just give you that scorer object: ```scorerVar = make_scorer(f1_score, pos_label=1)```\n",
    "\n",
    "- Using the concepts from the end of the 14-classification slides, output a confusion matrix.\n",
    "\n",
    "- Also, output a classification report [`classification_report`](http://scikit-learn.org/stable/modules/generated/sklearn.metrics.classification_report.html) from sklearn.metrics showing more of the metrics: precision, recall, f1-score for both of our classes."
   ]
  },
  {
   "cell_type": "code",
   "execution_count": null,
   "metadata": {
    "id": "Ud5y-XedZrjT",
    "scrolled": false
   },
   "outputs": [],
   "source": [
    "from sklearn import metrics\n",
    "from sklearn.metrics import confusion_matrix, f1_score, classification_report, make_scorer\n",
    "from sklearn import model_selection\n",
    "\n",
    "scorerVar = make_scorer(f1_score, pos_label=1)\n",
    "folds = 10\n",
    "cvScore = model_selection.cross_val_score(model, trainX, trainY, cv = folds, scoring=scorerVar)\n",
    "print(\"Output of Cross_val_score using f1_scorer and cv={}: \\n{}\".format(folds , cvScore))"
   ]
  },
  {
   "cell_type": "code",
   "execution_count": null,
   "metadata": {},
   "outputs": [],
   "source": [
    "conf_matrix = confusion_matrix(testY, y_hat)\n",
    "print(\"Confusion Matrix: \\n{}\".format(conf_matrix))"
   ]
  },
  {
   "cell_type": "code",
   "execution_count": null,
   "metadata": {},
   "outputs": [],
   "source": [
    "classi_report = classification_report(testY, y_hat, target_names=[\"Died-0\", \"Survived-1\"])\n",
    "print(\"Classification Report: \\n{}\".format(classi_report))"
   ]
  },
  {
   "cell_type": "markdown",
   "metadata": {
    "id": "6KRHtfpZZrjT"
   },
   "source": [
    "### Problem 5: Support Vector Machines (15 points)\n",
    "Now, repeat the above experiment using the using a Support Vector classifier [`SVC`](http://scikit-learn.org/stable/modules/generated/sklearn.svm.SVC.html) with default parameters (RBF kernel) model in scikit-learn, and output:\n",
    "\n",
    "- The fit accuracy (using the `score` method of the model)\n",
    "- The f-score (using the [`cross_val_score`](http://scikit-learn.org/stable/modules/generated/sklearn.model_selection.cross_val_score.html) function)\n",
    "- The confusion matrix\n",
    "- The precision, recall, and f-measure for the 1 class (you can just print the results of the [`classification_report`](http://scikit-learn.org/stable/modules/generated/sklearn.metrics.classification_report.html) function from sklearn.metrics)"
   ]
  },
  {
   "cell_type": "code",
   "execution_count": null,
   "metadata": {
    "id": "zGjGEZD6ZrjT"
   },
   "outputs": [],
   "source": [
    "from sklearn.svm import SVC\n",
    "from sklearn.model_selection import cross_val_score\n",
    "\n",
    "#create a model object\n",
    "model_SVC = SVC()\n",
    "#train our model\n",
    "model_SVC.fit(trainX, trainY)\n",
    "#evaluate the model \n",
    "y_hat_SVC = model_SVC.predict(testX)\n",
    "model_score_SVC = model_SVC.score(testX,testY)\n",
    "print(\"Model fit Accuracy: \\n{}\".format(model_score_SVC))\n",
    "print()\n",
    "#setup to get f-score and cv\n",
    "folds_SVC = 10\n",
    "cvScore_SVC = model_selection.cross_val_score(model_SVC, trainX, trainY, cv = folds_SVC, scoring=scorerVar)\n",
    "print(\"Output of Cross_val_score using f1_scorer and cv={}: \\n{}\".format(folds_SVC , cvScore_SVC))\n",
    "print()\n",
    "#confusion matrix\n",
    "conf_matrix_SVC = confusion_matrix(testY, y_hat_SVC)\n",
    "print(\"Confusion Matrix: \\n{}\".format(conf_matrix_SVC))\n",
    "print()\n",
    "#classification report\n",
    "classi_report_SVC = classification_report(testY, y_hat_SVC, target_names=[\"Died-0\", \"Survived-1\"])\n",
    "print(\"Classification Report: \\n{}\".format(classi_report_SVC))"
   ]
  },
  {
   "cell_type": "markdown",
   "metadata": {
    "id": "WSDsdQFOZrjU"
   },
   "source": [
    "### Problem 6: Logistic Regression (15 points)\n",
    "\n",
    "Now, repeat the above experiment using the [`LogisticRegression`](http://scikit-learn.org/stable/modules/generated/sklearn.linear_model.LogisticRegression.html) model in scikit-learn, and output:\n",
    "\n",
    "- The fit accuracy (using the `score` method of the model)\n",
    "- The f-score (using the [`cross_val_score`](http://scikit-learn.org/stable/modules/generated/sklearn.model_selection.cross_val_score.html) function)\n",
    "- The confusion matrix\n",
    "- The precision, recall, and f-measure for the 1 class (you can just print the results of the [`classification_report`](http://scikit-learn.org/stable/modules/generated/sklearn.metrics.classification_report.html) function from sklearn.metrics)"
   ]
  },
  {
   "cell_type": "code",
   "execution_count": null,
   "metadata": {
    "id": "nnZIwTdPZrjU"
   },
   "outputs": [],
   "source": [
    "from sklearn.linear_model import LogisticRegression\n",
    "\n",
    "#create a model object\n",
    "model_LR = LogisticRegression()\n",
    "#train our model\n",
    "model_LR.fit(trainX, trainY)\n",
    "#evaluate the model \n",
    "y_hat_LR = model_LR.predict(testX)\n",
    "model_score_LR = model_LR.score(testX,testY)\n",
    "print(\"Model fit Accuracy: \\n{}\".format(model_score_LR))\n",
    "print()\n",
    "#setup to get f-score and cv\n",
    "folds_LR = 10\n",
    "cvScore_LR = model_selection.cross_val_score(model_LR, trainX, trainY, cv = folds_LR, scoring=scorerVar)\n",
    "print(\"Output of Cross_val_score using f1_scorer and cv={}: \\n{}\".format(folds_LR , cvScore_LR))\n",
    "print()\n",
    "#confusion matrix\n",
    "conf_matrix_LR = confusion_matrix(testY, y_hat_LR)\n",
    "print(\"Confusion Matrix: \\n{}\".format(conf_matrix_LR))\n",
    "print()\n",
    "#classification report\n",
    "classi_report_LR = classification_report(testY, y_hat_LR, target_names=[\"Died-0\", \"Survived-1\"])\n",
    "print(\"Classification Report: \\n{}\".format(classi_report_LR))\n"
   ]
  },
  {
   "cell_type": "markdown",
   "metadata": {
    "id": "fWmwls34ZrjU"
   },
   "source": [
    "### Problem 7: Comparision and Discussion (5 points)\n",
    "Edit this cell to provide a brief discussion (3-5 sentances at most):\n",
    "1. What was the model/algorithm that performed best for you?\n",
    "2. What feaures and hyperparameters were used to achieve that performance?\n",
    "3. What insights did you gain from your experimentation about the predictive power of this dataset and did it match your original hypothesis about the relationship between given feature data and the target?\n",
    "\n",
    "    The model that performed the best for me was the K nearest Neighbors algorithm using a k value of 5 and the features Age,Sex, and Pclass. It came out to an accuracy of 85%.\n",
    "    By running through these experiments I have learned about how useful data can be in order to predict future outcomes. I did not realize that it was possible to get such a high accuracy even with such an unpredictable event. I also think that my hypothesis was correct considering the features that I chose brought about an accuracy value of 85%. \n"
   ]
  },
  {
   "cell_type": "markdown",
   "metadata": {
    "id": "IZLuk1FmZrjU"
   },
   "source": [
    "### Questionnaire\n",
    "1) How long did you spend on this assignment?\n",
    "<br><br>\n",
    "    I spent about 3 hours on this assignment\n",
    "<br><br>\n",
    "2) What did you like about it? What did you not like about it?\n",
    "<br><br>\n",
    "    I liked learning just how powerful machine learning algorithms could be.\n",
    "<br><br>\n",
    "3) Did you find any errors or is there anything you would like changed?\n",
    "<br><br>\n",
    "    Nothing that I can think of\n",
    "<br><br>"
   ]
  },
  {
   "cell_type": "code",
   "execution_count": null,
   "metadata": {
    "id": "gQjugad_ZrjV"
   },
   "outputs": [],
   "source": []
  },
  {
   "cell_type": "code",
   "execution_count": null,
   "metadata": {
    "id": "g6qUjQrnZrjV"
   },
   "outputs": [],
   "source": []
  }
 ],
 "metadata": {
  "anaconda-cloud": {},
  "colab": {
   "name": "05-classification_7_20.ipynb",
   "provenance": []
  },
  "kernelspec": {
   "display_name": "Python 3 (ipykernel)",
   "language": "python",
   "name": "python3"
  },
  "language_info": {
   "codemirror_mode": {
    "name": "ipython",
    "version": 3
   },
   "file_extension": ".py",
   "mimetype": "text/x-python",
   "name": "python",
   "nbconvert_exporter": "python",
   "pygments_lexer": "ipython3",
   "version": "3.11.7"
  }
 },
 "nbformat": 4,
 "nbformat_minor": 1
}
