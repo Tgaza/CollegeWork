{
 "cells": [
  {
   "cell_type": "code",
   "execution_count": 6,
   "id": "53d9118b",
   "metadata": {},
   "outputs": [
    {
     "name": "stdout",
     "output_type": "stream",
     "text": [
      "9\n"
     ]
    }
   ],
   "source": [
    "\"\"\"\n",
    "    Author: Ty Gazaway\n",
    "    Date: 05/16/2024\n",
    "\"\"\"\n",
    "\n",
    "def num_Of_Fives(n):\n",
    "    \"\"\"takes in an interger n and counts the number of 5's present\"\"\"\n",
    "    count = 0\n",
    "    while(n>0):\n",
    "        if(n%10 == 5):\n",
    "            count += 1\n",
    "        n = n//10\n",
    "    return count\n",
    "\n",
    "def main():\n",
    "    #for testing the function\n",
    "    n = 550555055575\n",
    "    print(num_Of_Fives(n))\n",
    "    \n",
    "if (__name__ == '__main__'):\n",
    "    main()\n"
   ]
  },
  {
   "cell_type": "code",
   "execution_count": null,
   "id": "a8750c01",
   "metadata": {},
   "outputs": [],
   "source": []
  }
 ],
 "metadata": {
  "kernelspec": {
   "display_name": "Python 3 (ipykernel)",
   "language": "python",
   "name": "python3"
  },
  "language_info": {
   "codemirror_mode": {
    "name": "ipython",
    "version": 3
   },
   "file_extension": ".py",
   "mimetype": "text/x-python",
   "name": "python",
   "nbconvert_exporter": "python",
   "pygments_lexer": "ipython3",
   "version": "3.11.7"
  }
 },
 "nbformat": 4,
 "nbformat_minor": 5
}
